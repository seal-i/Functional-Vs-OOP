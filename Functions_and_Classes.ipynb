{
 "cells": [
  {
   "cell_type": "code",
   "execution_count": 1,
   "id": "18e1f886-0581-4f64-accb-c9a6e2030848",
   "metadata": {},
   "outputs": [
    {
     "name": "stdout",
     "output_type": "stream",
     "text": [
      "Enter the year of the car:  2013\n",
      "Enter the make of the car:  mazda\n",
      "Enter the model of the car:  3\n",
      "Enter the number of doors (2 or 4):  4\n",
      "Enter the type of roof (solid or sun roof):  solid\n"
     ]
    },
    {
     "name": "stdout",
     "output_type": "stream",
     "text": [
      "\n",
      "Car Information:\n",
      "Vehicle type: car\n",
      "Year: 2013\n",
      "Make: mazda\n",
      "Model: 3\n",
      "Number of doors: 4\n",
      "Type of roof: solid\n"
     ]
    }
   ],
   "source": [
    "# Define the Vehicle superclass\n",
    "class Vehicle:\n",
    "    def __init__(self, vehicle_type):\n",
    "        self.vehicle_type = vehicle_type\n",
    "\n",
    "# Define the Automobile subclass, inheriting from Vehicle\n",
    "class Automobile(Vehicle):\n",
    "    def __init__(self, year, make, model, doors, roof):\n",
    "        super().__init__(\"car\")  # Set the vehicle type as 'car'\n",
    "        self.year = year\n",
    "        self.make = make\n",
    "        self.model = model\n",
    "        self.doors = doors\n",
    "        self.roof = roof\n",
    "\n",
    "    # Method to display the automobile information\n",
    "    def display_info(self):\n",
    "        print(f\"Vehicle type: {self.vehicle_type}\")\n",
    "        print(f\"Year: {self.year}\")\n",
    "        print(f\"Make: {self.make}\")\n",
    "        print(f\"Model: {self.model}\")\n",
    "        print(f\"Number of doors: {self.doors}\")\n",
    "        print(f\"Type of roof: {self.roof}\")\n",
    "\n",
    "# Main function to run the application\n",
    "if __name__ == \"__main__\":\n",
    "    # Collecting user input\n",
    "    year = input(\"Enter the year of the car: \")\n",
    "    make = input(\"Enter the make of the car: \")\n",
    "    model = input(\"Enter the model of the car: \")\n",
    "    doors = input(\"Enter the number of doors (2 or 4): \")\n",
    "    roof = input(\"Enter the type of roof (solid or sun roof): \")\n",
    "\n",
    "    # Creating an instance of Automobile with the provided inputs\n",
    "    car = Automobile(year, make, model, doors, roof)\n",
    "\n",
    "    # Displaying the information of the car\n",
    "    print(\"\\nCar Information:\")\n",
    "    car.display_info()\n"
   ]
  }
 ],
 "metadata": {
  "kernelspec": {
   "display_name": "Python 3 (ipykernel)",
   "language": "python",
   "name": "python3"
  },
  "language_info": {
   "codemirror_mode": {
    "name": "ipython",
    "version": 3
   },
   "file_extension": ".py",
   "mimetype": "text/x-python",
   "name": "python",
   "nbconvert_exporter": "python",
   "pygments_lexer": "ipython3",
   "version": "3.12.7"
  }
 },
 "nbformat": 4,
 "nbformat_minor": 5
}
