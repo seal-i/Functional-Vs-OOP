{
 "cells": [
  {
   "cell_type": "code",
   "execution_count": null,
   "id": "18e1f886-0581-4f64-accb-c9a6e2030848",
   "metadata": {},
   "outputs": [],
   "source": []
  }
 ],
 "metadata": {
  "kernelspec": {
   "display_name": "",
   "name": ""
  },
  "language_info": {
   "name": ""
  }
 },
 "nbformat": 4,
 "nbformat_minor": 5
}
