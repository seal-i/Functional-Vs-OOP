{
 "cells": [
  {
   "cell_type": "code",
   "execution_count": 2,
   "id": "36294125-59a5-4a7e-9ca4-7c05b0a2a41a",
   "metadata": {},
   "outputs": [],
   "source": [
    "# 7.4 Create a list called things with specified elements\n",
    "things = [\"mozzarella\", \"cinderella\", \"salmonella\"]\n"
   ]
  },
  {
   "cell_type": "code",
   "execution_count": null,
   "id": "53348538-8b3b-4c95-8a78-f37e649f4f93",
   "metadata": {},
   "outputs": [],
   "source": [
    "# 7.5 Capitalize the element that refers to a person (\"cinderella\")\n",
    "things[1] = things[1].capitalize()\n",
    "print(things)"
   ]
  },
  {
   "cell_type": "code",
   "execution_count": null,
   "id": "eef70357-bdaf-4016-bee1-18acd8a78ae8",
   "metadata": {},
   "outputs": [],
   "source": [
    "# 7.6 Make the cheesy element (\"mozarella\") uppercase and print the list\n",
    "things[0] = things[0].upper()\n",
    "print(things)"
   ]
  },
  {
   "cell_type": "code",
   "execution_count": null,
   "id": "d6c3e267-8a9b-42f5-ab5a-3973074d9d86",
   "metadata": {},
   "outputs": [],
   "source": [
    "# 7.7 Delete the disease element (\"salmonella\"), collect your Nobel Prize, and print the list\n",
    "del things[2]\n",
    "print(things)"
   ]
  },
  {
   "cell_type": "code",
   "execution_count": null,
   "id": "00f866ba-9942-4c1b-aee8-457662d52e32",
   "metadata": {},
   "outputs": [],
   "source": [
    "# 9.1 "
   ]
  },
  {
   "cell_type": "code",
   "execution_count": null,
   "id": "096bbbb5-7b11-468c-bbe8-19743842a01d",
   "metadata": {},
   "outputs": [],
   "source": [
    "# 9.2"
   ]
  }
 ],
 "metadata": {
  "kernelspec": {
   "display_name": "Python 3 (ipykernel)",
   "language": "python",
   "name": "python3"
  },
  "language_info": {
   "codemirror_mode": {
    "name": "ipython",
    "version": 3
   },
   "file_extension": ".py",
   "mimetype": "text/x-python",
   "name": "python",
   "nbconvert_exporter": "python",
   "pygments_lexer": "ipython3",
   "version": "3.12.7"
  }
 },
 "nbformat": 4,
 "nbformat_minor": 5
}
